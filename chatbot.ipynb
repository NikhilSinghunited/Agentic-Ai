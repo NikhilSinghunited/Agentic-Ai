{
 "cells": [
  {
   "cell_type": "code",
   "execution_count": 1,
   "id": "9125080b",
   "metadata": {},
   "outputs": [
    {
     "name": "stdout",
     "output_type": "stream",
     "text": [
      "^C\n",
      "Note: you may need to restart the kernel to use updated packages.\n"
     ]
    },
    {
     "name": "stderr",
     "output_type": "stream",
     "text": [
      "WARNING: Retrying (Retry(total=4, connect=None, read=None, redirect=None, status=None)) after connection broken by 'ProtocolError('Connection aborted.', RemoteDisconnected('Remote end closed connection without response'))': /simple/annotated-types/\n",
      "WARNING: Retrying (Retry(total=4, connect=None, read=None, redirect=None, status=None)) after connection broken by 'ProtocolError('Connection aborted.', RemoteDisconnected('Remote end closed connection without response'))': /packages/d7/b1/9f4912e13d4ed691f2685c8a4b764b5a9237a30cca0c5782bc213d9f0a9a/langgraph-1.0.2-py3-none-any.whl\n",
      "\n",
      "[notice] A new release of pip is available: 25.0.1 -> 25.3\n",
      "[notice] To update, run: python.exe -m pip install --upgrade pip\n"
     ]
    },
    {
     "name": "stdout",
     "output_type": "stream",
     "text": [
      "Collecting langgraph\n",
      "  Downloading langgraph-1.0.2-py3-none-any.whl.metadata (7.4 kB)\n",
      "Collecting langchain-core>=0.1 (from langgraph)\n",
      "  Downloading langchain_core-1.0.2-py3-none-any.whl.metadata (3.5 kB)\n",
      "Collecting langgraph-checkpoint<4.0.0,>=2.1.0 (from langgraph)\n",
      "  Downloading langgraph_checkpoint-3.0.0-py3-none-any.whl.metadata (4.2 kB)\n",
      "Collecting langgraph-prebuilt<1.1.0,>=1.0.2 (from langgraph)\n",
      "  Downloading langgraph_prebuilt-1.0.2-py3-none-any.whl.metadata (5.0 kB)\n",
      "Collecting langgraph-sdk<0.3.0,>=0.2.2 (from langgraph)\n",
      "  Downloading langgraph_sdk-0.2.9-py3-none-any.whl.metadata (1.5 kB)\n",
      "Collecting pydantic>=2.7.4 (from langgraph)\n",
      "  Using cached pydantic-2.12.3-py3-none-any.whl.metadata (87 kB)\n",
      "Collecting xxhash>=3.5.0 (from langgraph)\n",
      "  Downloading xxhash-3.6.0-cp312-cp312-win_amd64.whl.metadata (13 kB)\n",
      "Collecting jsonpatch<2.0.0,>=1.33.0 (from langchain-core>=0.1->langgraph)\n",
      "  Using cached jsonpatch-1.33-py2.py3-none-any.whl.metadata (3.0 kB)\n",
      "Collecting langsmith<1.0.0,>=0.3.45 (from langchain-core>=0.1->langgraph)\n",
      "  Using cached langsmith-0.4.38-py3-none-any.whl.metadata (14 kB)\n",
      "Requirement already satisfied: packaging<26.0.0,>=23.2.0 in c:\\users\\nikhil.singh\\onedrive - aionos\\desktop\\agentic-ai\\venv\\lib\\site-packages (from langchain-core>=0.1->langgraph) (25.0)\n",
      "Collecting pyyaml<7.0.0,>=5.3.0 (from langchain-core>=0.1->langgraph)\n",
      "  Using cached pyyaml-6.0.3-cp312-cp312-win_amd64.whl.metadata (2.4 kB)\n",
      "Collecting tenacity!=8.4.0,<10.0.0,>=8.1.0 (from langchain-core>=0.1->langgraph)\n",
      "  Using cached tenacity-9.1.2-py3-none-any.whl.metadata (1.2 kB)\n",
      "Collecting typing-extensions<5.0.0,>=4.7.0 (from langchain-core>=0.1->langgraph)\n",
      "  Using cached typing_extensions-4.15.0-py3-none-any.whl.metadata (3.3 kB)\n",
      "Collecting ormsgpack>=1.10.0 (from langgraph-checkpoint<4.0.0,>=2.1.0->langgraph)\n",
      "  Downloading ormsgpack-1.11.0-cp312-cp312-win_amd64.whl.metadata (1.2 kB)\n",
      "Collecting httpx>=0.25.2 (from langgraph-sdk<0.3.0,>=0.2.2->langgraph)\n",
      "  Using cached httpx-0.28.1-py3-none-any.whl.metadata (7.1 kB)\n",
      "Collecting orjson>=3.10.1 (from langgraph-sdk<0.3.0,>=0.2.2->langgraph)\n",
      "  Using cached orjson-3.11.4-cp312-cp312-win_amd64.whl.metadata (42 kB)\n",
      "Collecting annotated-types>=0.6.0 (from pydantic>=2.7.4->langgraph)\n",
      "  Using cached annotated_types-0.7.0-py3-none-any.whl.metadata (15 kB)\n",
      "Collecting pydantic-core==2.41.4 (from pydantic>=2.7.4->langgraph)\n",
      "  Using cached pydantic_core-2.41.4-cp312-cp312-win_amd64.whl.metadata (7.4 kB)\n",
      "Collecting typing-inspection>=0.4.2 (from pydantic>=2.7.4->langgraph)\n",
      "  Using cached typing_inspection-0.4.2-py3-none-any.whl.metadata (2.6 kB)\n",
      "Collecting anyio (from httpx>=0.25.2->langgraph-sdk<0.3.0,>=0.2.2->langgraph)\n",
      "  Using cached anyio-4.11.0-py3-none-any.whl.metadata (4.1 kB)\n",
      "Collecting certifi (from httpx>=0.25.2->langgraph-sdk<0.3.0,>=0.2.2->langgraph)\n",
      "  Using cached certifi-2025.10.5-py3-none-any.whl.metadata (2.5 kB)\n",
      "Collecting httpcore==1.* (from httpx>=0.25.2->langgraph-sdk<0.3.0,>=0.2.2->langgraph)\n",
      "  Using cached httpcore-1.0.9-py3-none-any.whl.metadata (21 kB)\n",
      "Collecting idna (from httpx>=0.25.2->langgraph-sdk<0.3.0,>=0.2.2->langgraph)\n",
      "  Using cached idna-3.11-py3-none-any.whl.metadata (8.4 kB)\n",
      "Collecting h11>=0.16 (from httpcore==1.*->httpx>=0.25.2->langgraph-sdk<0.3.0,>=0.2.2->langgraph)\n",
      "  Using cached h11-0.16.0-py3-none-any.whl.metadata (8.3 kB)\n",
      "Collecting jsonpointer>=1.9 (from jsonpatch<2.0.0,>=1.33.0->langchain-core>=0.1->langgraph)\n",
      "  Using cached jsonpointer-3.0.0-py2.py3-none-any.whl.metadata (2.3 kB)\n",
      "Collecting requests-toolbelt>=1.0.0 (from langsmith<1.0.0,>=0.3.45->langchain-core>=0.1->langgraph)\n",
      "  Using cached requests_toolbelt-1.0.0-py2.py3-none-any.whl.metadata (14 kB)\n",
      "Collecting requests>=2.0.0 (from langsmith<1.0.0,>=0.3.45->langchain-core>=0.1->langgraph)\n",
      "  Using cached requests-2.32.5-py3-none-any.whl.metadata (4.9 kB)\n",
      "Collecting zstandard>=0.23.0 (from langsmith<1.0.0,>=0.3.45->langchain-core>=0.1->langgraph)\n",
      "  Using cached zstandard-0.25.0-cp312-cp312-win_amd64.whl.metadata (3.3 kB)\n",
      "Collecting charset_normalizer<4,>=2 (from requests>=2.0.0->langsmith<1.0.0,>=0.3.45->langchain-core>=0.1->langgraph)\n",
      "  Using cached charset_normalizer-3.4.4-cp312-cp312-win_amd64.whl.metadata (38 kB)\n",
      "Collecting urllib3<3,>=1.21.1 (from requests>=2.0.0->langsmith<1.0.0,>=0.3.45->langchain-core>=0.1->langgraph)\n",
      "  Using cached urllib3-2.5.0-py3-none-any.whl.metadata (6.5 kB)\n",
      "Collecting sniffio>=1.1 (from anyio->httpx>=0.25.2->langgraph-sdk<0.3.0,>=0.2.2->langgraph)\n",
      "  Using cached sniffio-1.3.1-py3-none-any.whl.metadata (3.9 kB)\n",
      "Downloading langgraph-1.0.2-py3-none-any.whl (156 kB)\n",
      "Downloading langchain_core-1.0.2-py3-none-any.whl (469 kB)\n",
      "Downloading langgraph_checkpoint-3.0.0-py3-none-any.whl (46 kB)\n",
      "Downloading langgraph_prebuilt-1.0.2-py3-none-any.whl (34 kB)\n",
      "Downloading langgraph_sdk-0.2.9-py3-none-any.whl (56 kB)\n",
      "Using cached pydantic-2.12.3-py3-none-any.whl (462 kB)\n",
      "Using cached pydantic_core-2.41.4-cp312-cp312-win_amd64.whl (2.0 MB)\n",
      "Downloading xxhash-3.6.0-cp312-cp312-win_amd64.whl (31 kB)\n",
      "Using cached annotated_types-0.7.0-py3-none-any.whl (13 kB)\n",
      "Using cached httpx-0.28.1-py3-none-any.whl (73 kB)\n",
      "Using cached httpcore-1.0.9-py3-none-any.whl (78 kB)\n",
      "Using cached jsonpatch-1.33-py2.py3-none-any.whl (12 kB)\n",
      "Using cached langsmith-0.4.38-py3-none-any.whl (397 kB)\n",
      "Using cached orjson-3.11.4-cp312-cp312-win_amd64.whl (131 kB)\n",
      "Downloading ormsgpack-1.11.0-cp312-cp312-win_amd64.whl (112 kB)\n",
      "Using cached pyyaml-6.0.3-cp312-cp312-win_amd64.whl (154 kB)\n",
      "Using cached tenacity-9.1.2-py3-none-any.whl (28 kB)\n",
      "Using cached typing_extensions-4.15.0-py3-none-any.whl (44 kB)\n",
      "Using cached typing_inspection-0.4.2-py3-none-any.whl (14 kB)\n",
      "Using cached jsonpointer-3.0.0-py2.py3-none-any.whl (7.6 kB)\n",
      "Using cached requests-2.32.5-py3-none-any.whl (64 kB)\n",
      "Using cached certifi-2025.10.5-py3-none-any.whl (163 kB)\n",
      "Using cached idna-3.11-py3-none-any.whl (71 kB)\n",
      "Using cached requests_toolbelt-1.0.0-py2.py3-none-any.whl (54 kB)\n",
      "Using cached zstandard-0.25.0-cp312-cp312-win_amd64.whl (506 kB)\n",
      "Using cached anyio-4.11.0-py3-none-any.whl (109 kB)\n",
      "Using cached charset_normalizer-3.4.4-cp312-cp312-win_amd64.whl (107 kB)\n",
      "Using cached h11-0.16.0-py3-none-any.whl (37 kB)\n",
      "Using cached sniffio-1.3.1-py3-none-any.whl (10 kB)\n",
      "Using cached urllib3-2.5.0-py3-none-any.whl (129 kB)\n",
      "Installing collected packages: zstandard, xxhash, urllib3, typing-extensions, tenacity, sniffio, pyyaml, ormsgpack, orjson, jsonpointer, idna, h11, charset_normalizer, certifi, annotated-types, typing-inspection, requests, pydantic-core, jsonpatch, httpcore, anyio, requests-toolbelt, pydantic, httpx, langsmith, langgraph-sdk, langchain-core, langgraph-checkpoint, langgraph-prebuilt, langgraph\n",
      "Successfully installed annotated-types-0.7.0 anyio-4.11.0 certifi-2025.10.5 charset_normalizer-3.4.4 h11-0.16.0 httpcore-1.0.9 httpx-0.28.1 idna-3.11 jsonpatch-1.33 jsonpointer-3.0.0 langchain-core-1.0.2 langgraph-1.0.2 langgraph-checkpoint-3.0.0 langgraph-prebuilt-1.0.2 langgraph-sdk-0.2.9 langsmith-0.4.38 orjson-3.11.4 ormsgpack-1.11.0 pydantic-2.12.3 pydantic-core-2.41.4 pyyaml-6.0.3 requests-2.32.5 requests-toolbelt-1.0.0 sniffio-1.3.1 tenacity-9.1.2 typing-extensions-4.15.0 typing-inspection-0.4.2 urllib3-2.5.0 xxhash-3.6.0 zstandard-0.25.0\n"
     ]
    }
   ],
   "source": [
    "pip install langgraph "
   ]
  },
  {
   "cell_type": "code",
   "execution_count": 2,
   "id": "df23cc02",
   "metadata": {},
   "outputs": [
    {
     "data": {
      "text/plain": [
       "{'messages': [HumanMessage(content='hi!', additional_kwargs={}, response_metadata={}, id='5ae70681-889b-4fc1-aa76-ca5dc322639f'),\n",
       "  AIMessage(content='hello world', additional_kwargs={}, response_metadata={}, id='da7d4aae-847d-4df9-909d-6bd20f6ef99b')]}"
      ]
     },
     "execution_count": 2,
     "metadata": {},
     "output_type": "execute_result"
    }
   ],
   "source": [
    "from langgraph.graph import StateGraph, MessagesState, START, END\n",
    "\n",
    "def mock_llm(state: MessagesState):\n",
    "    return {\"messages\": [{\"role\": \"ai\", \"content\": \"hello world\"}]}\n",
    "\n",
    "graph = StateGraph(MessagesState)\n",
    "graph.add_node(mock_llm)\n",
    "graph.add_edge(START, \"mock_llm\")\n",
    "graph.add_edge(\"mock_llm\", END)\n",
    "graph = graph.compile()\n",
    "\n",
    "graph.invoke({\"messages\": [{\"role\": \"user\", \"content\": \"hi!\"}]})"
   ]
  },
  {
   "cell_type": "code",
   "execution_count": 3,
   "id": "bd48dc5b",
   "metadata": {},
   "outputs": [],
   "source": [
    "from langgraph.graph import StateGraph,MessagesState, START, END\n",
    "from langgraph.graph.message import add_messages\n",
    "from typing import Annotated, Literal, TypedDict\n",
    "from langchain_core.tools import tool\n",
    "from langchain_core.messages import HumanMessage\n",
    "from langgraph.checkpoint.memory import MemorySaver\n",
    "from langgraph.prebuilt import ToolNode"
   ]
  },
  {
   "cell_type": "code",
   "execution_count": 10,
   "id": "6fb1051c",
   "metadata": {},
   "outputs": [
    {
     "name": "stdout",
     "output_type": "stream",
     "text": [
      "Collecting langchain-groq\n",
      "  Downloading langchain_groq-1.0.0-py3-none-any.whl.metadata (1.7 kB)\n",
      "Collecting groq<1.0.0,>=0.30.0 (from langchain-groq)\n",
      "  Downloading groq-0.33.0-py3-none-any.whl.metadata (16 kB)\n",
      "Requirement already satisfied: langchain-core<2.0.0,>=1.0.0 in c:\\users\\nikhil.singh\\onedrive - aionos\\desktop\\agentic-ai\\venv\\lib\\site-packages (from langchain-groq) (1.0.2)\n",
      "Requirement already satisfied: anyio<5,>=3.5.0 in c:\\users\\nikhil.singh\\onedrive - aionos\\desktop\\agentic-ai\\venv\\lib\\site-packages (from groq<1.0.0,>=0.30.0->langchain-groq) (4.11.0)\n",
      "Collecting distro<2,>=1.7.0 (from groq<1.0.0,>=0.30.0->langchain-groq)\n",
      "  Using cached distro-1.9.0-py3-none-any.whl.metadata (6.8 kB)\n",
      "Requirement already satisfied: httpx<1,>=0.23.0 in c:\\users\\nikhil.singh\\onedrive - aionos\\desktop\\agentic-ai\\venv\\lib\\site-packages (from groq<1.0.0,>=0.30.0->langchain-groq) (0.28.1)\n",
      "Requirement already satisfied: pydantic<3,>=1.9.0 in c:\\users\\nikhil.singh\\onedrive - aionos\\desktop\\agentic-ai\\venv\\lib\\site-packages (from groq<1.0.0,>=0.30.0->langchain-groq) (2.12.3)\n",
      "Requirement already satisfied: sniffio in c:\\users\\nikhil.singh\\onedrive - aionos\\desktop\\agentic-ai\\venv\\lib\\site-packages (from groq<1.0.0,>=0.30.0->langchain-groq) (1.3.1)\n",
      "Requirement already satisfied: typing-extensions<5,>=4.10 in c:\\users\\nikhil.singh\\onedrive - aionos\\desktop\\agentic-ai\\venv\\lib\\site-packages (from groq<1.0.0,>=0.30.0->langchain-groq) (4.15.0)\n",
      "Requirement already satisfied: jsonpatch<2.0.0,>=1.33.0 in c:\\users\\nikhil.singh\\onedrive - aionos\\desktop\\agentic-ai\\venv\\lib\\site-packages (from langchain-core<2.0.0,>=1.0.0->langchain-groq) (1.33)\n",
      "Requirement already satisfied: langsmith<1.0.0,>=0.3.45 in c:\\users\\nikhil.singh\\onedrive - aionos\\desktop\\agentic-ai\\venv\\lib\\site-packages (from langchain-core<2.0.0,>=1.0.0->langchain-groq) (0.4.38)\n",
      "Requirement already satisfied: packaging<26.0.0,>=23.2.0 in c:\\users\\nikhil.singh\\onedrive - aionos\\desktop\\agentic-ai\\venv\\lib\\site-packages (from langchain-core<2.0.0,>=1.0.0->langchain-groq) (25.0)\n",
      "Requirement already satisfied: pyyaml<7.0.0,>=5.3.0 in c:\\users\\nikhil.singh\\onedrive - aionos\\desktop\\agentic-ai\\venv\\lib\\site-packages (from langchain-core<2.0.0,>=1.0.0->langchain-groq) (6.0.3)\n",
      "Requirement already satisfied: tenacity!=8.4.0,<10.0.0,>=8.1.0 in c:\\users\\nikhil.singh\\onedrive - aionos\\desktop\\agentic-ai\\venv\\lib\\site-packages (from langchain-core<2.0.0,>=1.0.0->langchain-groq) (9.1.2)\n",
      "Requirement already satisfied: idna>=2.8 in c:\\users\\nikhil.singh\\onedrive - aionos\\desktop\\agentic-ai\\venv\\lib\\site-packages (from anyio<5,>=3.5.0->groq<1.0.0,>=0.30.0->langchain-groq) (3.11)\n",
      "Requirement already satisfied: certifi in c:\\users\\nikhil.singh\\onedrive - aionos\\desktop\\agentic-ai\\venv\\lib\\site-packages (from httpx<1,>=0.23.0->groq<1.0.0,>=0.30.0->langchain-groq) (2025.10.5)\n",
      "Requirement already satisfied: httpcore==1.* in c:\\users\\nikhil.singh\\onedrive - aionos\\desktop\\agentic-ai\\venv\\lib\\site-packages (from httpx<1,>=0.23.0->groq<1.0.0,>=0.30.0->langchain-groq) (1.0.9)\n",
      "Requirement already satisfied: h11>=0.16 in c:\\users\\nikhil.singh\\onedrive - aionos\\desktop\\agentic-ai\\venv\\lib\\site-packages (from httpcore==1.*->httpx<1,>=0.23.0->groq<1.0.0,>=0.30.0->langchain-groq) (0.16.0)\n",
      "Requirement already satisfied: jsonpointer>=1.9 in c:\\users\\nikhil.singh\\onedrive - aionos\\desktop\\agentic-ai\\venv\\lib\\site-packages (from jsonpatch<2.0.0,>=1.33.0->langchain-core<2.0.0,>=1.0.0->langchain-groq) (3.0.0)\n",
      "Requirement already satisfied: orjson>=3.9.14 in c:\\users\\nikhil.singh\\onedrive - aionos\\desktop\\agentic-ai\\venv\\lib\\site-packages (from langsmith<1.0.0,>=0.3.45->langchain-core<2.0.0,>=1.0.0->langchain-groq) (3.11.4)\n",
      "Requirement already satisfied: requests-toolbelt>=1.0.0 in c:\\users\\nikhil.singh\\onedrive - aionos\\desktop\\agentic-ai\\venv\\lib\\site-packages (from langsmith<1.0.0,>=0.3.45->langchain-core<2.0.0,>=1.0.0->langchain-groq) (1.0.0)\n",
      "Requirement already satisfied: requests>=2.0.0 in c:\\users\\nikhil.singh\\onedrive - aionos\\desktop\\agentic-ai\\venv\\lib\\site-packages (from langsmith<1.0.0,>=0.3.45->langchain-core<2.0.0,>=1.0.0->langchain-groq) (2.32.5)\n",
      "Requirement already satisfied: zstandard>=0.23.0 in c:\\users\\nikhil.singh\\onedrive - aionos\\desktop\\agentic-ai\\venv\\lib\\site-packages (from langsmith<1.0.0,>=0.3.45->langchain-core<2.0.0,>=1.0.0->langchain-groq) (0.25.0)\n",
      "Requirement already satisfied: annotated-types>=0.6.0 in c:\\users\\nikhil.singh\\onedrive - aionos\\desktop\\agentic-ai\\venv\\lib\\site-packages (from pydantic<3,>=1.9.0->groq<1.0.0,>=0.30.0->langchain-groq) (0.7.0)\n",
      "Requirement already satisfied: pydantic-core==2.41.4 in c:\\users\\nikhil.singh\\onedrive - aionos\\desktop\\agentic-ai\\venv\\lib\\site-packages (from pydantic<3,>=1.9.0->groq<1.0.0,>=0.30.0->langchain-groq) (2.41.4)\n",
      "Requirement already satisfied: typing-inspection>=0.4.2 in c:\\users\\nikhil.singh\\onedrive - aionos\\desktop\\agentic-ai\\venv\\lib\\site-packages (from pydantic<3,>=1.9.0->groq<1.0.0,>=0.30.0->langchain-groq) (0.4.2)\n",
      "Requirement already satisfied: charset_normalizer<4,>=2 in c:\\users\\nikhil.singh\\onedrive - aionos\\desktop\\agentic-ai\\venv\\lib\\site-packages (from requests>=2.0.0->langsmith<1.0.0,>=0.3.45->langchain-core<2.0.0,>=1.0.0->langchain-groq) (3.4.4)\n",
      "Requirement already satisfied: urllib3<3,>=1.21.1 in c:\\users\\nikhil.singh\\onedrive - aionos\\desktop\\agentic-ai\\venv\\lib\\site-packages (from requests>=2.0.0->langsmith<1.0.0,>=0.3.45->langchain-core<2.0.0,>=1.0.0->langchain-groq) (2.5.0)\n",
      "Downloading langchain_groq-1.0.0-py3-none-any.whl (16 kB)\n",
      "Downloading groq-0.33.0-py3-none-any.whl (135 kB)\n",
      "Using cached distro-1.9.0-py3-none-any.whl (20 kB)\n",
      "Installing collected packages: distro, groq, langchain-groq\n",
      "Successfully installed distro-1.9.0 groq-0.33.0 langchain-groq-1.0.0\n",
      "Note: you may need to restart the kernel to use updated packages.\n"
     ]
    },
    {
     "name": "stderr",
     "output_type": "stream",
     "text": [
      "\n",
      "[notice] A new release of pip is available: 25.0.1 -> 25.3\n",
      "[notice] To update, run: python.exe -m pip install --upgrade pip\n"
     ]
    }
   ],
   "source": [
    "\n",
    "pip install langchain-groq"
   ]
  },
  {
   "cell_type": "code",
   "execution_count": 15,
   "id": "f46e9518",
   "metadata": {},
   "outputs": [
    {
     "name": "stdout",
     "output_type": "stream",
     "text": [
      "**Introduction to REST API and gRPC**\n",
      "=====================================\n",
      "\n",
      "REST (Representational State of Resource) API and gRPC are two popular communication protocols used for building web services. While both enable data exchange between systems, they differ in their approach, advantages, and use cases.\n",
      "\n",
      "**REST API**\n",
      "------------\n",
      "\n",
      "*   **Definition:** REST API is an architectural style for designing networked applications.\n",
      "*   **Characteristics:**\n",
      "    *   Uses HTTP/HTTPS protocol\n",
      "    *   Resource-based (e.g., users, products)\n",
      "    *   Client-server architecture\n",
      "    *   Stateless (each request contains all necessary information)\n",
      "    *   Cacheable (responses can be cached to reduce requests)\n",
      "    *   Supports multiple data formats (e.g., JSON, XML)\n",
      "*   **Use cases:**\n",
      "    *   Web applications\n",
      "    *   Mobile apps\n",
      "    *   Public APIs\n",
      "\n",
      "**gRPC**\n",
      "--------\n",
      "\n",
      "*   **Definition:** gRPC is a high-performance RPC (Remote Procedure Call) framework.\n",
      "*   **Characteristics:**\n",
      "    *   Uses HTTP/2 protocol\n",
      "    *   Service-based (e.g., user service, product service)\n",
      "    *   Client-server architecture\n",
      "    *   Supports streaming and asynchronous communication\n",
      "    *   Uses Protocol Buffers (protobuf) for data serialization\n",
      "*   **Use cases:**\n",
      "    *   Microservices architecture\n",
      "    *   Real-time communication\n",
      "    *   High-performance applications\n",
      "\n",
      "**Key Differences**\n",
      "-------------------\n",
      "\n",
      "1.  **Protocol:** REST API uses HTTP/HTTPS, while gRPC uses HTTP/2.\n",
      "2.  **Data Serialization:** REST API supports multiple data formats, whereas gRPC uses Protocol Buffers (protobuf).\n",
      "3.  **Performance:** gRPC is generally faster and more efficient than REST API due to its use of HTTP/2 and protobuf.\n",
      "4.  **Complexity:** gRPC requires more setup and configuration compared to REST API.\n",
      "\n",
      "**Choosing Between REST API and gRPC**\n",
      "--------------------------------------\n",
      "\n",
      "When deciding between REST API and gRPC, consider the following factors:\n",
      "\n",
      "*   **Performance requirements:** If high performance is critical, gRPC might be a better choice.\n",
      "*   **Complexity tolerance:** If simplicity is preferred, REST API could be more suitable.\n",
      "*   **Use case:** REST API is often used for web applications and public APIs, while gRPC is commonly used for microservices architecture and real-time communication.\n",
      "\n",
      "Ultimately, the choice between REST API and gRPC depends on the specific needs and requirements of your project.\n"
     ]
    }
   ],
   "source": [
    "import os\n",
    "from langchain_groq import ChatGroq\n",
    "\n",
    "# Set your API key securely\n",
    "os.environ[\"GROQ_API_KEY\"] = \"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\"\n",
    "\n",
    "# Initialize the model (model name is case-sensitive!)\n",
    "llm = ChatGroq(model=\"llama-3.3-70b-versatile\"\n",
    "    )\n",
    "\n",
    "# Example prompt\n",
    "response = llm.invoke(\"Explain the difference between REST API and gRPC in simple terms.\")\n",
    "\n",
    "print(response.content)\n"
   ]
  },
  {
   "cell_type": "code",
   "execution_count": 17,
   "id": "ea9d9d51",
   "metadata": {},
   "outputs": [],
   "source": [
    "def call_model(state: MessagesState):\n",
    "    messages = state['messages']\n",
    "    response = llm.invoke(messages)\n",
    "    return {\"messages\": [response]}"
   ]
  },
  {
   "cell_type": "code",
   "execution_count": 18,
   "id": "0739df2d",
   "metadata": {},
   "outputs": [],
   "source": [
    "workflow=StateGraph(MessagesState)\n",
    "workflow.add_node(\"chatbot\",call_model)\n",
    "workflow.add_edge(START, \"chatbot\")\n",
    "workflow.add_edge(\"chatbot\",END)\n",
    "app=workflow.compile()"
   ]
  },
  {
   "cell_type": "code",
   "execution_count": 19,
   "id": "7d4c4a16",
   "metadata": {},
   "outputs": [
    {
     "data": {
      "image/png": "[encoded data removed]",
      "text/plain": [
       "<IPython.core.display.Image object>"
      ]
     },
     "metadata": {},
     "output_type": "display_data"
    }
   ],
   "source": [
    "from IPython.display import Image, display\n",
    "display(Image(app.get_graph().draw_mermaid_png()))"
   ]
  },
  {
   "cell_type": "code",
   "execution_count": 29,
   "id": "867ed94b",
   "metadata": {},
   "outputs": [
    {
     "name": "stdout",
     "output_type": "stream",
     "text": [
      "Requirement already satisfied: langgraph in c:\\users\\nikhil.singh\\onedrive - aionos\\desktop\\agentic-ai\\venv\\lib\\site-packages (1.0.2)\n",
      "Requirement already satisfied: langchain-core>=0.1 in c:\\users\\nikhil.singh\\onedrive - aionos\\desktop\\agentic-ai\\venv\\lib\\site-packages (from langgraph) (1.0.2)\n",
      "Requirement already satisfied: langgraph-checkpoint<4.0.0,>=2.1.0 in c:\\users\\nikhil.singh\\onedrive - aionos\\desktop\\agentic-ai\\venv\\lib\\site-packages (from langgraph) (3.0.0)\n",
      "Requirement already satisfied: langgraph-prebuilt<1.1.0,>=1.0.2 in c:\\users\\nikhil.singh\\onedrive - aionos\\desktop\\agentic-ai\\venv\\lib\\site-packages (from langgraph) (1.0.2)\n",
      "Requirement already satisfied: langgraph-sdk<0.3.0,>=0.2.2 in c:\\users\\nikhil.singh\\onedrive - aionos\\desktop\\agentic-ai\\venv\\lib\\site-packages (from langgraph) (0.2.9)\n",
      "Requirement already satisfied: pydantic>=2.7.4 in c:\\users\\nikhil.singh\\onedrive - aionos\\desktop\\agentic-ai\\venv\\lib\\site-packages (from langgraph) (2.12.3)\n",
      "Requirement already satisfied: xxhash>=3.5.0 in c:\\users\\nikhil.singh\\onedrive - aionos\\desktop\\agentic-ai\\venv\\lib\\site-packages (from langgraph) (3.6.0)\n",
      "Requirement already satisfied: jsonpatch<2.0.0,>=1.33.0 in c:\\users\\nikhil.singh\\onedrive - aionos\\desktop\\agentic-ai\\venv\\lib\\site-packages (from langchain-core>=0.1->langgraph) (1.33)\n",
      "Requirement already satisfied: langsmith<1.0.0,>=0.3.45 in c:\\users\\nikhil.singh\\onedrive - aionos\\desktop\\agentic-ai\\venv\\lib\\site-packages (from langchain-core>=0.1->langgraph) (0.4.38)\n",
      "Requirement already satisfied: packaging<26.0.0,>=23.2.0 in c:\\users\\nikhil.singh\\onedrive - aionos\\desktop\\agentic-ai\\venv\\lib\\site-packages (from langchain-core>=0.1->langgraph) (25.0)\n",
      "Requirement already satisfied: pyyaml<7.0.0,>=5.3.0 in c:\\users\\nikhil.singh\\onedrive - aionos\\desktop\\agentic-ai\\venv\\lib\\site-packages (from langchain-core>=0.1->langgraph) (6.0.3)\n",
      "Requirement already satisfied: tenacity!=8.4.0,<10.0.0,>=8.1.0 in c:\\users\\nikhil.singh\\onedrive - aionos\\desktop\\agentic-ai\\venv\\lib\\site-packages (from langchain-core>=0.1->langgraph) (9.1.2)\n",
      "Requirement already satisfied: typing-extensions<5.0.0,>=4.7.0 in c:\\users\\nikhil.singh\\onedrive - aionos\\desktop\\agentic-ai\\venv\\lib\\site-packages (from langchain-core>=0.1->langgraph) (4.15.0)\n",
      "Requirement already satisfied: ormsgpack>=1.10.0 in c:\\users\\nikhil.singh\\onedrive - aionos\\desktop\\agentic-ai\\venv\\lib\\site-packages (from langgraph-checkpoint<4.0.0,>=2.1.0->langgraph) (1.11.0)\n",
      "Requirement already satisfied: httpx>=0.25.2 in c:\\users\\nikhil.singh\\onedrive - aionos\\desktop\\agentic-ai\\venv\\lib\\site-packages (from langgraph-sdk<0.3.0,>=0.2.2->langgraph) (0.28.1)\n",
      "Requirement already satisfied: orjson>=3.10.1 in c:\\users\\nikhil.singh\\onedrive - aionos\\desktop\\agentic-ai\\venv\\lib\\site-packages (from langgraph-sdk<0.3.0,>=0.2.2->langgraph) (3.11.4)\n",
      "Requirement already satisfied: annotated-types>=0.6.0 in c:\\users\\nikhil.singh\\onedrive - aionos\\desktop\\agentic-ai\\venv\\lib\\site-packages (from pydantic>=2.7.4->langgraph) (0.7.0)\n",
      "Requirement already satisfied: pydantic-core==2.41.4 in c:\\users\\nikhil.singh\\onedrive - aionos\\desktop\\agentic-ai\\venv\\lib\\site-packages (from pydantic>=2.7.4->langgraph) (2.41.4)\n",
      "Requirement already satisfied: typing-inspection>=0.4.2 in c:\\users\\nikhil.singh\\onedrive - aionos\\desktop\\agentic-ai\\venv\\lib\\site-packages (from pydantic>=2.7.4->langgraph) (0.4.2)\n",
      "Requirement already satisfied: anyio in c:\\users\\nikhil.singh\\onedrive - aionos\\desktop\\agentic-ai\\venv\\lib\\site-packages (from httpx>=0.25.2->langgraph-sdk<0.3.0,>=0.2.2->langgraph) (4.11.0)\n",
      "Requirement already satisfied: certifi in c:\\users\\nikhil.singh\\onedrive - aionos\\desktop\\agentic-ai\\venv\\lib\\site-packages (from httpx>=0.25.2->langgraph-sdk<0.3.0,>=0.2.2->langgraph) (2025.10.5)\n",
      "Requirement already satisfied: httpcore==1.* in c:\\users\\nikhil.singh\\onedrive - aionos\\desktop\\agentic-ai\\venv\\lib\\site-packages (from httpx>=0.25.2->langgraph-sdk<0.3.0,>=0.2.2->langgraph) (1.0.9)\n",
      "Requirement already satisfied: idna in c:\\users\\nikhil.singh\\onedrive - aionos\\desktop\\agentic-ai\\venv\\lib\\site-packages (from httpx>=0.25.2->langgraph-sdk<0.3.0,>=0.2.2->langgraph) (3.11)\n",
      "Requirement already satisfied: h11>=0.16 in c:\\users\\nikhil.singh\\onedrive - aionos\\desktop\\agentic-ai\\venv\\lib\\site-packages (from httpcore==1.*->httpx>=0.25.2->langgraph-sdk<0.3.0,>=0.2.2->langgraph) (0.16.0)\n",
      "Requirement already satisfied: jsonpointer>=1.9 in c:\\users\\nikhil.singh\\onedrive - aionos\\desktop\\agentic-ai\\venv\\lib\\site-packages (from jsonpatch<2.0.0,>=1.33.0->langchain-core>=0.1->langgraph) (3.0.0)\n",
      "Requirement already satisfied: requests-toolbelt>=1.0.0 in c:\\users\\nikhil.singh\\onedrive - aionos\\desktop\\agentic-ai\\venv\\lib\\site-packages (from langsmith<1.0.0,>=0.3.45->langchain-core>=0.1->langgraph) (1.0.0)\n",
      "Requirement already satisfied: requests>=2.0.0 in c:\\users\\nikhil.singh\\onedrive - aionos\\desktop\\agentic-ai\\venv\\lib\\site-packages (from langsmith<1.0.0,>=0.3.45->langchain-core>=0.1->langgraph) (2.32.5)\n",
      "Requirement already satisfied: zstandard>=0.23.0 in c:\\users\\nikhil.singh\\onedrive - aionos\\desktop\\agentic-ai\\venv\\lib\\site-packages (from langsmith<1.0.0,>=0.3.45->langchain-core>=0.1->langgraph) (0.25.0)\n",
      "Requirement already satisfied: charset_normalizer<4,>=2 in c:\\users\\nikhil.singh\\onedrive - aionos\\desktop\\agentic-ai\\venv\\lib\\site-packages (from requests>=2.0.0->langsmith<1.0.0,>=0.3.45->langchain-core>=0.1->langgraph) (3.4.4)\n",
      "Requirement already satisfied: urllib3<3,>=1.21.1 in c:\\users\\nikhil.singh\\onedrive - aionos\\desktop\\agentic-ai\\venv\\lib\\site-packages (from requests>=2.0.0->langsmith<1.0.0,>=0.3.45->langchain-core>=0.1->langgraph) (2.5.0)\n",
      "Requirement already satisfied: sniffio>=1.1 in c:\\users\\nikhil.singh\\onedrive - aionos\\desktop\\agentic-ai\\venv\\lib\\site-packages (from anyio->httpx>=0.25.2->langgraph-sdk<0.3.0,>=0.2.2->langgraph) (1.3.1)\n",
      "Note: you may need to restart the kernel to use updated packages.\n"
     ]
    },
    {
     "name": "stderr",
     "output_type": "stream",
     "text": [
      "\n",
      "[notice] A new release of pip is available: 25.0.1 -> 25.3\n",
      "[notice] To update, run: python.exe -m pip install --upgrade pip\n"
     ]
    }
   ],
   "source": [
    "pip install langgraph"
   ]
  },
  {
   "cell_type": "code",
   "execution_count": null,
   "id": "6dab5061",
   "metadata": {},
   "outputs": [],
   "source": [
    "from langgraph.graph import StateGraph,MessagesState, START, END\n",
    "from langgraph.graph.message import add_messages\n",
    "from typing import Annotated, Literal, TypedDict\n",
    "from langchain_core.tools import tool\n",
    "from langchain_core.messages import HumanMessage,AnyMessage\n",
    "from langgraph.checkpoint.memory import MemorySaver\n",
    "from langgraph.prebuilt import ToolNode\n"
   ]
  },
  {
   "cell_type": "code",
   "execution_count": 35,
   "id": "165a34d8",
   "metadata": {},
   "outputs": [],
   "source": [
    "class MessagesState(TypedDict):\n",
    "    messages: Annotated[list[AnyMessage], add_messages]"
   ]
  },
  {
   "cell_type": "code",
   "execution_count": 38,
   "id": "2be2b82e",
   "metadata": {},
   "outputs": [
    {
     "data": {
      "text/plain": [
       "{'messages': [HumanMessage(content='hi, my name is nikhil', additional_kwargs={}, response_metadata={}, id='2d743ace-2dc8-446c-83fd-3d64a08bfd88'),\n",
       "  AIMessage(content=\"Hello Nikhil! It's nice to meet you. Is there something I can help you with or would you like to chat?\", additional_kwargs={}, response_metadata={'token_usage': {'completion_tokens': 27, 'prompt_tokens': 43, 'total_tokens': 70, 'completion_time': 0.050841237, 'prompt_time': 0.002475754, 'queue_time': 0.055974016, 'total_time': 0.053316991}, 'model_name': 'llama-3.3-70b-versatile', 'system_fingerprint': 'fp_2ddfbb0da0', 'service_tier': 'on_demand', 'finish_reason': 'stop', 'logprobs': None, 'model_provider': 'groq'}, id='lc_run--340be153-227d-46c4-97d5-37c635581103-0', usage_metadata={'input_tokens': 43, 'output_tokens': 27, 'total_tokens': 70})]}"
      ]
     },
     "execution_count": 38,
     "metadata": {},
     "output_type": "execute_result"
    }
   ],
   "source": [
    "input={\"messages\":[\"hi, my name is nikhil\"]}\n",
    "app.invoke(input)\n"
   ]
  },
  {
   "cell_type": "code",
   "execution_count": 40,
   "id": "4d2e91ed",
   "metadata": {},
   "outputs": [],
   "source": [
    "@tool\n",
    "def search(query: str):\n",
    "    \"\"\"this is my custom tool\"\"\"\n",
    "    if \"sf\" in query.lower() or \"san francisco\" in query.lower():\n",
    "        return \"it's 60 degrees and foggy\"\n",
    "    return \"it is 90 degrees and sunny\"\n"
   ]
  },
  {
   "cell_type": "code",
   "execution_count": 41,
   "id": "8ca1de51",
   "metadata": {},
   "outputs": [
    {
     "data": {
      "text/plain": [
       "\"it's 60 degrees and foggy\""
      ]
     },
     "execution_count": 41,
     "metadata": {},
     "output_type": "execute_result"
    }
   ],
   "source": [
    "search.invoke(\"what is a temperature in sf\")"
   ]
  },
  {
   "cell_type": "code",
   "execution_count": 42,
   "id": "8eb77173",
   "metadata": {},
   "outputs": [
    {
     "data": {
      "text/plain": [
       "'it is 90 degrees and sunny'"
      ]
     },
     "execution_count": 42,
     "metadata": {},
     "output_type": "execute_result"
    }
   ],
   "source": [
    "search.invoke('what is weather in india')"
   ]
  },
  {
   "cell_type": "code",
   "execution_count": 43,
   "id": "41173def",
   "metadata": {},
   "outputs": [
    {
     "data": {
      "text/plain": [
       "StructuredTool(name='search', description='this is my custom tool', args_schema=<class 'langchain_core.utils.pydantic.search'>, func=<function search at 0x000001934806EFC0>)"
      ]
     },
     "execution_count": 43,
     "metadata": {},
     "output_type": "execute_result"
    }
   ],
   "source": [
    "search"
   ]
  },
  {
   "cell_type": "code",
   "execution_count": 44,
   "id": "56fb2475",
   "metadata": {},
   "outputs": [],
   "source": [
    "tools=[search]"
   ]
  },
  {
   "cell_type": "code",
   "execution_count": 45,
   "id": "5fc22d0b",
   "metadata": {},
   "outputs": [],
   "source": [
    "tool_node=ToolNode(tools)"
   ]
  },
  {
   "cell_type": "code",
   "execution_count": 46,
   "id": "e7c882dd",
   "metadata": {},
   "outputs": [],
   "source": [
    "llm_with_tool=llm.bind_tools(tools)"
   ]
  },
  {
   "cell_type": "code",
   "execution_count": 64,
   "id": "03dea79f",
   "metadata": {},
   "outputs": [],
   "source": [
    "def call_model(state: MessagesState):\n",
    "    messages=state['messages']\n",
    "    response=llm_with_tool.invoke(messages)\n",
    "    return {\"messages\":{response}}"
   ]
  },
  {
   "cell_type": "code",
   "execution_count": 67,
   "id": "464aaed7",
   "metadata": {},
   "outputs": [
    {
     "name": "stdout",
     "output_type": "stream",
     "text": [
      "I'm doing well, thanks for asking. Is there something I can help you with or would you like to chat?\n"
     ]
    }
   ],
   "source": [
    "from langchain_core.messages import HumanMessage\n",
    "\n",
    "def call_model(state):\n",
    "    messages = state['messages']\n",
    "    response = llm_with_tool.invoke(messages)\n",
    "    return {\"messages\": [response]}\n",
    "\n",
    "# Usage\n",
    "response = call_model({\"messages\": [HumanMessage(content=\"hi how are you?\")]})\n",
    "print(response[\"messages\"][0].content)"
   ]
  }
 ],
 "metadata": {
  "kernelspec": {
   "display_name": "venv",
   "language": "python",
   "name": "python3"
  },
  "language_info": {
   "codemirror_mode": {
    "name": "ipython",
    "version": 3
   },
   "file_extension": ".py",
   "mimetype": "text/x-python",
   "name": "python",
   "nbconvert_exporter": "python",
   "pygments_lexer": "ipython3",
   "version": "3.12.10"
  }
 },
 "nbformat": 4,
 "nbformat_minor": 5
}
